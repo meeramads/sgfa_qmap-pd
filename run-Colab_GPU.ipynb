{
 "cells": [
  {
   "cell_type": "markdown",
   "id": "2943f201",
   "metadata": {
    "vscode": {
     "languageId": "raw"
    }
   },
   "source": [
    "#Colab GPU Environment Set Up\n",
    "\n",
    "Creates a Python 3.10 kernel within Colab, clones the repository and installs pinned dependencies. Installs compatible versions of JAX (CUDA) and NumPyro and CUDA JAX and NVIDIA CUDA wheels.\n",
    "Creates a py310cuda launcher fixed on the correct libraries."
   ]
  },
  {
   "cell_type": "code",
   "execution_count": null,
   "id": "76a10592",
   "metadata": {
    "vscode": {
     "languageId": "shellscript"
    }
   },
   "outputs": [],
   "source": [
    "import os, subprocess, sys, stat, textwrap, pathlib\n",
    "\n",
    "REPO = \"/content/sgfa_qmap-pd\""
   ]
  },
  {
   "cell_type": "code",
   "execution_count": null,
   "id": "b92ce943",
   "metadata": {
    "vscode": {
     "languageId": "shellscript"
    }
   },
   "outputs": [],
   "source": [
    "# Clone the repository \n",
    "os.chdir(\"/content\")\n",
    "subprocess.run([\"rm\",\"-rf\",\"sgfa_qmap-pd\"])\n",
    "subprocess.check_call([\"git\",\"clone\",\"https://github.com/meeramads/sgfa_qmap-pd.git\"])\n",
    "os.chdir(REPO)"
   ]
  },
  {
   "cell_type": "code",
   "execution_count": null,
   "id": "21bea82d",
   "metadata": {
    "vscode": {
     "languageId": "shellscript"
    }
   },
   "outputs": [],
   "source": [
    "# Install Python 3.10 side-by-side\n",
    "subprocess.check_call([\"wget\",\"-q\",\"https://github.com/korakot/kora/releases/download/v0.10/py310.sh\"])\n",
    "subprocess.check_call([\"bash\",\"./py310.sh\",\"-b\",\"-f\",\"-p\",\"/usr/local\"])\n",
    "subprocess.check_call([\"python3.10\",\"-V\"])"
   ]
  },
  {
   "cell_type": "code",
   "execution_count": null,
   "id": "05ebe654",
   "metadata": {
    "vscode": {
     "languageId": "shellscript"
    }
   },
   "outputs": [],
   "source": [
    "# Install dependencies\n",
    "subprocess.check_call([\"python3.10\",\"-m\",\"pip\",\"install\",\"-U\",\"pip\"])\n",
    "subprocess.check_call([\"python3.10\",\"-m\",\"pip\",\"install\",\"-r\",\"requirements.txt\"])"
   ]
  },
  {
   "cell_type": "code",
   "execution_count": null,
   "id": "30ab768e",
   "metadata": {
    "vscode": {
     "languageId": "shellscript"
    }
   },
   "outputs": [],
   "source": [
    "# Set up JAX (CUDA) + NumPyro to ensure compatibility\n",
    "subprocess.run([\"python3.10\",\"-m\",\"pip\",\"uninstall\",\"-y\",\"jax\",\"jaxlib\"])\n",
    "subprocess.check_call([\n",
    "    \"python3.10\",\"-m\",\"pip\",\"install\",\"-U\",\n",
    "    \"jax[cuda12_pip]==0.4.20\",\"-f\",\"https://storage.googleapis.com/jax-releases/jax_cuda_releases.html\"\n",
    "])\n",
    "subprocess.check_call([\"python3.10\",\"-m\",\"pip\",\"install\",\"numpyro==0.13.2\"])"
   ]
  },
  {
   "cell_type": "code",
   "execution_count": null,
   "id": "061c1aed",
   "metadata": {
    "vscode": {
     "languageId": "shellscript"
    }
   },
   "outputs": [],
   "source": [
    "# NVIDIA CUDA libraries into the *py310* site-packages\n",
    "subprocess.check_call([\"python3.10\",\"-m\",\"pip\",\"install\",\"-q\",\n",
    "    \"nvidia-cudnn-cu12>=8.9,<9\",\n",
    "    \"nvidia-cublas-cu12>=12.2\",\n",
    "    \"nvidia-cuda-runtime-cu12>=12.2\",\n",
    "    \"nvidia-cusolver-cu12>=11.4\",\n",
    "    \"nvidia-cusparse-cu12>=12.1\",\n",
    "    \"nvidia-cufft-cu12>=11.0\",\n",
    "    \"nvidia-cuda-cupti-cu12>=12.2\",\n",
    "    \"nvidia-nvjitlink-cu12>=12.2\",\n",
    "    \"nvidia-nccl-cu12>=2.18\",\n",
    "])"
   ]
  },
  {
   "cell_type": "code",
   "execution_count": null,
   "id": "36f38bae",
   "metadata": {
    "vscode": {
     "languageId": "shellscript"
    }
   },
   "outputs": [],
   "source": [
    "# Build LD_LIBRARY_PATH for those wheels and write a launcher\n",
    "py310_site = subprocess.check_output(\n",
    "    [\"python3.10\",\"-c\",\"import site; print(site.getsitepackages()[0])\"],\n",
    "    text=True\n",
    ").strip()\n",
    "subdirs = [\"cudnn/lib\",\"cublas/lib\",\"cufft/lib\",\"cusolver/lib\",\"cusparse/lib\",\n",
    "           \"cuda_runtime/lib\",\"cuda_cupti/lib\",\"nvjitlink/lib\",\"nccl/lib\"]\n",
    "lib_paths = [os.path.join(py310_site,\"nvidia\",d) for d in subdirs]\n",
    "lib_paths = [p for p in lib_paths if os.path.isdir(p)]\n",
    "LD = \":\".join(lib_paths)\n",
    "\n",
    "wrapper = \"/usr/local/bin/py310cuda\"\n",
    "pathlib.Path(wrapper).write_text(textwrap.dedent(f\"\"\"\\\n",
    "#!/bin/bash\n",
    "export LD_LIBRARY_PATH=\"{LD}:$LD_LIBRARY_PATH\"\n",
    "export XLA_PYTHON_CLIENT_PREALLOCATE=false\n",
    "export XLA_PYTHON_CLIENT_MEM_FRACTION=0.70\n",
    "export JAX_PLATFORM_NAME=gpu\n",
    "exec python3.10 \"$@\"\n",
    "\"\"\"))\n",
    "os.chmod(wrapper, os.stat(wrapper).st_mode | stat.S_IEXEC)"
   ]
  },
  {
   "cell_type": "code",
   "execution_count": null,
   "id": "442b29cb",
   "metadata": {
    "vscode": {
     "languageId": "shellscript"
    }
   },
   "outputs": [],
   "source": [
    "# Verify JAX sees the GPU\n",
    "subprocess.check_call([\n",
    "    \"py310cuda\",\"-c\",\n",
    "    \"import jax; print('backend:', jax.lib.xla_bridge.get_backend().platform, '| devices:', jax.devices())\"\n",
    "])"
   ]
  },
  {
   "cell_type": "code",
   "execution_count": null,
   "id": "11e03bcf",
   "metadata": {
    "vscode": {
     "languageId": "shellscript"
    }
   },
   "outputs": [],
   "source": [
    "# Double check\n",
    "!py310cuda -c \"import jax; print('backend:', jax.lib.xla_bridge.get_backend().platform, '| devices:', jax.devices())\""
   ]
  },
  {
   "cell_type": "markdown",
   "id": "602a9caa",
   "metadata": {
    "vscode": {
     "languageId": "shellscript"
    }
   },
   "source": [
    "---\n",
    "# Training the model\n",
    "\n",
    "Call  ```!py310cuda run_analysis.py``` with the flag ```--device gpu```.\n",
    "\n",
    "Run ```!py310cuda run_analysis.py --help || py310cuda run_analysis.py -h``` for detailed information on other available flags."
   ]
  },
  {
   "cell_type": "code",
   "execution_count": null,
   "id": "575573e5",
   "metadata": {
    "vscode": {
     "languageId": "shellscript"
    }
   },
   "outputs": [],
   "source": []
  }
 ],
 "metadata": {
  "language_info": {
   "name": "python"
  }
 },
 "nbformat": 4,
 "nbformat_minor": 5
}
