{
  "cells": [
    {
      "cell_type": "markdown",
      "id": "2943f201",
      "metadata": {
        "id": "2943f201"
      },
      "source": [
        "#Environment Set Up\n",
        "\n",
        "Creates a Python 3.10 kernel within Colab, clones the repository and installs pinned dependencies. Installs compatible versions of JAX (CUDA) and NumPyro and CUDA JAX and NVIDIA CUDA wheels.\n",
        "Creates a py310cuda launcher fixed on the correct libraries."
      ]
    },
    {
      "cell_type": "markdown",
      "id": "cwRO_dZf_R8l",
      "metadata": {
        "id": "cwRO_dZf_R8l"
      },
      "source": [
        "##Directory\n",
        "Clones the GitHub repository and mounts to Google Drive to store results."
      ]
    },
    {
      "cell_type": "code",
      "execution_count": 15,
      "id": "76a10592",
      "metadata": {
        "id": "76a10592"
      },
      "outputs": [],
      "source": [
        "import os, subprocess, sys, stat, textwrap, pathlib, shutil\n",
        "\n",
        "REPO = \"/content/sgfa_qmap-pd\""
      ]
    },
    {
      "cell_type": "code",
      "execution_count": 16,
      "id": "b92ce943",
      "metadata": {
        "id": "b92ce943"
      },
      "outputs": [],
      "source": [
        "# Clone the repository\n",
        "os.chdir(\"/content\")\n",
        "subprocess.run([\"rm\",\"-rf\",\"sgfa_qmap-pd\"])\n",
        "subprocess.check_call([\"git\",\"clone\",\"https://github.com/meeramads/sgfa_qmap-pd.git\"])\n",
        "os.chdir(REPO)"
      ]
    },
    {
      "cell_type": "code",
      "execution_count": null,
      "id": "9ipzIkySm4Ja",
      "metadata": {
        "colab": {
          "base_uri": "https://localhost:8080/"
        },
        "id": "9ipzIkySm4Ja",
        "outputId": "9b95e4b8-5f3d-4676-f0c5-92912c16a97a"
      },
      "outputs": [],
      "source": [
        "from google.colab import drive\n",
        "from pathlib import Path\n",
        "drive.mount('/content/drive')"
      ]
    },
    {
      "cell_type": "code",
      "execution_count": null,
      "id": "g89Hv7Er-Pad",
      "metadata": {
        "colab": {
          "base_uri": "https://localhost:8080/"
        },
        "id": "g89Hv7Er-Pad",
        "outputId": "9515b47a-6e69-4bcf-f47b-8d447bcfeb31"
      },
      "outputs": [],
      "source": [
        "drive_path = \"/content/drive/MyDrive/sgfa_results\"\n",
        "\n",
        "if os.path.exists(drive_path):\n",
        "    if os.path.isfile(drive_path):\n",
        "        print(f\"Found a FILE named 'sgfa_results' - renaming it to 'sgfa_results_backup'\")\n",
        "        shutil.move(drive_path, \"/content/drive/MyDrive/sgfa_results_backup\")\n",
        "        os.makedirs(drive_path)\n",
        "    elif os.path.isdir(drive_path):\n",
        "        print(f\"Found existing DIRECTORY 'sgfa_results' - checking contents...\")\n",
        "        contents = list(os.listdir(drive_path))\n",
        "        if contents:\n",
        "            print(f\"   Contains {len(contents)} items: {contents[:5]}{'...' if len(contents) > 5 else ''}\")\n",
        "            print(\"   Will preserve existing results and add new ones\")\n",
        "        else:\n",
        "            print(\"   Directory is empty - ready to use\")\n",
        "else:\n",
        "    print(\"Creating new 'sgfa_results' directory\")\n",
        "    os.makedirs(drive_path)"
      ]
    },
    {
      "cell_type": "code",
      "execution_count": null,
      "id": "4rOFd1oi-RFU",
      "metadata": {
        "colab": {
          "base_uri": "https://localhost:8080/"
        },
        "id": "4rOFd1oi-RFU",
        "outputId": "27dc2ac2-b6bf-4fa9-c35b-f38ff028c03a"
      },
      "outputs": [],
      "source": [
        "results_link = \"../results\"\n",
        "\n",
        "if os.path.exists(results_link):\n",
        "    if os.path.islink(results_link):\n",
        "        print(\"Removing existing symlink\")\n",
        "        os.unlink(results_link)\n",
        "    elif os.path.isdir(results_link):\n",
        "        print(\"Found existing results directory - backing up first\")\n",
        "        if os.listdir(results_link):\n",
        "            backup_path = \"/content/drive/MyDrive/sgfa_results_local_backup\"\n",
        "            shutil.move(results_link, backup_path)\n",
        "            print(f\"   Moved to {backup_path}\")\n",
        "        else:\n",
        "            shutil.rmtree(results_link)"
      ]
    },
    {
      "cell_type": "code",
      "execution_count": null,
      "id": "XzfUUoVK-8Oq",
      "metadata": {
        "colab": {
          "base_uri": "https://localhost:8080/"
        },
        "id": "XzfUUoVK-8Oq",
        "outputId": "d549881b-f747-4e78-f249-b8646c9a62b1"
      },
      "outputs": [],
      "source": [
        "print(\"Creating symlink to Google Drive...\")\n",
        "os.symlink(drive_path, results_link)"
      ]
    },
    {
      "cell_type": "code",
      "execution_count": null,
      "id": "rMFabjJ6-81w",
      "metadata": {
        "colab": {
          "base_uri": "https://localhost:8080/"
        },
        "id": "rMFabjJ6-81w",
        "outputId": "0ba2ea03-fb10-491f-8218-56eb84416b3c"
      },
      "outputs": [],
      "source": [
        "print(\"Setup complete! Testing...\")\n",
        "test_dir = f\"{results_link}/test_directory\"\n",
        "os.makedirs(test_dir, exist_ok=True)"
      ]
    },
    {
      "cell_type": "code",
      "execution_count": 22,
      "id": "jGSjOYb2AfR7",
      "metadata": {
        "id": "jGSjOYb2AfR7"
      },
      "outputs": [],
      "source": [
        "with open(f\"{test_dir}/test_file.txt\", \"w\") as f:\n",
        "    f.write(\"This file should persist across disconnections!\")"
      ]
    },
    {
      "cell_type": "code",
      "execution_count": null,
      "id": "QIL1kvbgAf_h",
      "metadata": {
        "colab": {
          "base_uri": "https://localhost:8080/"
        },
        "id": "QIL1kvbgAf_h",
        "outputId": "718b8220-bf88-4a75-d5d4-d04aa0489428"
      },
      "outputs": [],
      "source": [
        "if os.path.exists(f\"{drive_path}/test_directory/test_file.txt\"):\n",
        "    print(\"SUCCESS: Files will now persist across disconnections!\")\n",
        "    print(f\"Results location: {drive_path}\")\n",
        "    print(f\"Symlink: {results_link} -> {drive_path}\")\n",
        "else:\n",
        "    print(\"ERROR: Symlink setup failed\")"
      ]
    },
    {
      "cell_type": "code",
      "execution_count": null,
      "id": "pditjzMgA9bm",
      "metadata": {
        "colab": {
          "base_uri": "https://localhost:8080/"
        },
        "id": "pditjzMgA9bm",
        "outputId": "321cc6e9-8576-4574-a74a-0e3ca8be56ec"
      },
      "outputs": [],
      "source": [
        "shutil.rmtree(test_dir)\n",
        "print(\"Cleaned up test files\")"
      ]
    },
    {
      "cell_type": "markdown",
      "id": "83w0lfou_0NP",
      "metadata": {
        "id": "83w0lfou_0NP"
      },
      "source": [
        "##Python and CUDA environment\n",
        "\n",
        "Must be connected to a GPU runtime. Sets up the Python 3.10 environment, JAX and CUDA libraries to coordinate with GPU usage. **Has to be run before any experiments.**"
      ]
    },
    {
      "cell_type": "code",
      "execution_count": null,
      "id": "21bea82d",
      "metadata": {
        "colab": {
          "base_uri": "https://localhost:8080/"
        },
        "id": "21bea82d",
        "outputId": "94db7cff-fb89-4c75-bf8a-87d903ea2145"
      },
      "outputs": [],
      "source": [
        "# Install Python 3.10 side-by-side\n",
        "subprocess.check_call([\"wget\",\"-q\",\"https://github.com/korakot/kora/releases/download/v0.10/py310.sh\"])\n",
        "subprocess.check_call([\"bash\",\"./py310.sh\",\"-b\",\"-f\",\"-p\",\"/usr/local\"])\n",
        "subprocess.check_call([\"python3.10\",\"-V\"])"
      ]
    },
    {
      "cell_type": "code",
      "execution_count": null,
      "id": "05ebe654",
      "metadata": {
        "colab": {
          "base_uri": "https://localhost:8080/"
        },
        "id": "05ebe654",
        "outputId": "f922eb30-9626-402e-a370-a5913bb74553"
      },
      "outputs": [],
      "source": [
        "# Install dependencies\n",
        "subprocess.check_call([\"python3.10\",\"-m\",\"pip\",\"install\",\"-U\",\"pip\"])\n",
        "subprocess.check_call([\"python3.10\",\"-m\",\"pip\",\"install\",\"-r\",\"requirements.txt\"])"
      ]
    },
    {
      "cell_type": "code",
      "execution_count": null,
      "id": "30ab768e",
      "metadata": {
        "colab": {
          "base_uri": "https://localhost:8080/"
        },
        "id": "30ab768e",
        "outputId": "d2b74a4e-939a-4792-e710-2d8647bafd6a"
      },
      "outputs": [],
      "source": [
        "# Set up JAX (CUDA) + NumPyro to ensure compatibility\n",
        "subprocess.run([\"python3.10\",\"-m\",\"pip\",\"uninstall\",\"-y\",\"jax\",\"jaxlib\"])\n",
        "subprocess.check_call([\n",
        "    \"python3.10\",\"-m\",\"pip\",\"install\",\"-U\",\n",
        "    \"jax[cuda12_pip]==0.4.20\",\"-f\",\"https://storage.googleapis.com/jax-releases/jax_cuda_releases.html\"\n",
        "])\n",
        "subprocess.check_call([\"python3.10\",\"-m\",\"pip\",\"install\",\"numpyro==0.13.2\"])"
      ]
    },
    {
      "cell_type": "code",
      "execution_count": null,
      "id": "061c1aed",
      "metadata": {
        "colab": {
          "base_uri": "https://localhost:8080/"
        },
        "id": "061c1aed",
        "outputId": "a0996ade-da35-44d1-c43d-e02a65a4584f"
      },
      "outputs": [],
      "source": [
        "# NVIDIA CUDA libraries into the *py310* site-packages\n",
        "subprocess.check_call([\"python3.10\",\"-m\",\"pip\",\"install\",\"-q\",\n",
        "    \"nvidia-cudnn-cu12>=8.9,<9\",\n",
        "    \"nvidia-cublas-cu12>=12.2\",\n",
        "    \"nvidia-cuda-runtime-cu12>=12.2\",\n",
        "    \"nvidia-cusolver-cu12>=11.4\",\n",
        "    \"nvidia-cusparse-cu12>=12.1\",\n",
        "    \"nvidia-cufft-cu12>=11.0\",\n",
        "    \"nvidia-cuda-cupti-cu12>=12.2\",\n",
        "    \"nvidia-nvjitlink-cu12>=12.2\",\n",
        "    \"nvidia-nccl-cu12>=2.18\",\n",
        "])"
      ]
    },
    {
      "cell_type": "code",
      "execution_count": 29,
      "id": "36f38bae",
      "metadata": {
        "id": "36f38bae"
      },
      "outputs": [],
      "source": [
        "# Build LD_LIBRARY_PATH for those wheels and write a launcher\n",
        "py310_site = subprocess.check_output(\n",
        "    [\"python3.10\",\"-c\",\"import site; print(site.getsitepackages()[0])\"],\n",
        "    text=True\n",
        ").strip()\n",
        "subdirs = [\"cudnn/lib\",\"cublas/lib\",\"cufft/lib\",\"cusolver/lib\",\"cusparse/lib\",\n",
        "           \"cuda_runtime/lib\",\"cuda_cupti/lib\",\"nvjitlink/lib\",\"nccl/lib\"]\n",
        "lib_paths = [os.path.join(py310_site,\"nvidia\",d) for d in subdirs]\n",
        "lib_paths = [p for p in lib_paths if os.path.isdir(p)]\n",
        "LD = \":\".join(lib_paths)\n",
        "\n",
        "wrapper = \"/usr/local/bin/py310cuda\"\n",
        "pathlib.Path(wrapper).write_text(textwrap.dedent(f\"\"\"\\\n",
        "#!/bin/bash\n",
        "export LD_LIBRARY_PATH=\"{LD}:$LD_LIBRARY_PATH\"\n",
        "export XLA_PYTHON_CLIENT_PREALLOCATE=false\n",
        "export XLA_PYTHON_CLIENT_MEM_FRACTION=0.70\n",
        "export JAX_PLATFORM_NAME=gpu\n",
        "exec python3.10 \"$@\"\n",
        "\"\"\"))\n",
        "os.chmod(wrapper, os.stat(wrapper).st_mode | stat.S_IEXEC)"
      ]
    },
    {
      "cell_type": "code",
      "execution_count": null,
      "id": "442b29cb",
      "metadata": {
        "colab": {
          "base_uri": "https://localhost:8080/"
        },
        "id": "442b29cb",
        "outputId": "e170cc6b-9e7a-4ce3-ae64-b429064dd59f"
      },
      "outputs": [],
      "source": [
        "# Verify JAX sees the GPU\n",
        "subprocess.check_call([\n",
        "    \"py310cuda\",\"-c\",\n",
        "    \"import jax; print('backend:', jax.lib.xla_bridge.get_backend().platform, '| devices:', jax.devices())\"\n",
        "])"
      ]
    },
    {
      "cell_type": "code",
      "execution_count": null,
      "id": "11e03bcf",
      "metadata": {
        "colab": {
          "base_uri": "https://localhost:8080/"
        },
        "id": "11e03bcf",
        "outputId": "e6301284-6987-47a8-dac5-a1c505b6f42f"
      },
      "outputs": [],
      "source": [
        "# Double check\n",
        "!py310cuda -c \"import jax; print('backend:', jax.lib.xla_bridge.get_backend().platform, '| devices:', jax.devices())\""
      ]
    },
    {
      "cell_type": "markdown",
      "id": "602a9caa",
      "metadata": {
        "id": "602a9caa"
      },
      "source": [
        "---\n",
        "\n",
        "# Training the model\n",
        "\n",
        "Call  ```!py310cuda run_analysis.py``` with the flag ```--device gpu```.\n",
        "\n",
        "Run ```!py310cuda run_analysis.py --help || py310cuda run_analysis.py -h``` for detailed information on other available flags."
      ]
    },
    {
      "cell_type": "code",
      "execution_count": null,
      "id": "YX_waabPPWWD",
      "metadata": {
        "colab": {
          "base_uri": "https://localhost:8080/"
        },
        "id": "YX_waabPPWWD",
        "outputId": "c689a0d9-f62e-48a3-c0aa-70221f653ad9"
      },
      "outputs": [],
      "source": [
        "!git pull"
      ]
    },
    {
      "cell_type": "code",
      "execution_count": null,
      "id": "FySU44ge7BWi",
      "metadata": {
        "colab": {
          "base_uri": "https://localhost:8080/"
        },
        "id": "FySU44ge7BWi",
        "outputId": "1a5b0225-e3a8-4402-f041-fe588262d3c6"
      },
      "outputs": [],
      "source": [
        "subprocess.run([\"rm\",\"-rf\",\"results\"])"
      ]
    },
    {
      "cell_type": "code",
      "execution_count": null,
      "id": "jqF9DFk_9SNQ",
      "metadata": {
        "colab": {
          "base_uri": "https://localhost:8080/"
        },
        "collapsed": true,
        "id": "jqF9DFk_9SNQ",
        "outputId": "cc933e14-e33d-4cf4-a8a8-676b892f18d3"
      },
      "outputs": [],
      "source": [
        "!ls"
      ]
    },
    {
      "cell_type": "code",
      "execution_count": null,
      "id": "Wpxw-_qiw4-X",
      "metadata": {
        "collapsed": true,
        "id": "Wpxw-_qiw4-X"
      },
      "outputs": [],
      "source": [
        "# Lightweight smoke test for synthetic data\n",
        "!py310cuda run_analysis.py \\\n",
        "  --dataset synthetic \\\n",
        "  --K 3 \\\n",
        "  --num-samples 100 \\\n",
        "  --num-warmup 50 \\\n",
        "  --num-chains 1 \\\n",
        "  --num-runs 1 \\\n",
        "  --percW 33 \\\n",
        "  --seed 42 \\\n",
        "  --device gpu"
      ]
    },
    {
      "cell_type": "code",
      "execution_count": null,
      "id": "WOroMQJKCU7m",
      "metadata": {
        "collapsed": true,
        "id": "WOroMQJKCU7m"
      },
      "outputs": [],
      "source": [
        "# Preprocessing smoke test\n",
        "!py310cuda run_analysis.py \\\n",
        "      --dataset qmap_pd \\\n",
        "      --K 3 \\\n",
        "      --num-samples 100 \\\n",
        "      --num-warmup 50 \\\n",
        "      --num-chains 1 \\\n",
        "      --num-runs 1 \\\n",
        "      --enable_preprocessing \\\n",
        "      --feature_selection variance \\\n",
        "      --n_top_features 100 \\\n",
        "      --device gpu \\\n",
        "      --seed 42"
      ]
    },
    {
      "cell_type": "code",
      "execution_count": null,
      "id": "nVq7NOJ9Ce71",
      "metadata": {
        "id": "nVq7NOJ9Ce71"
      },
      "outputs": [],
      "source": [
        "# Cross-validation smoke test\n",
        "!py310cuda run_analysis.py \\\n",
        "  --dataset synthetic \\\n",
        "  --K 3 \\\n",
        "  --num-samples 50 \\\n",
        "  --num-warmup 25 \\\n",
        "  --num-chains 1 \\\n",
        "  --cv_only \\\n",
        "  --cv_folds 3 \\\n",
        "  --device gpu \\\n",
        "  --seed 42"
      ]
    },
    {
      "cell_type": "code",
      "execution_count": null,
      "id": "2thGtiw_uJJq",
      "metadata": {
        "id": "2thGtiw_uJJq"
      },
      "outputs": [],
      "source": [
        "!rm -rf ../results/qmap_pd/sparseGFA_K3_1chs_pW33_s100_reghsZ/"
      ]
    },
    {
      "cell_type": "code",
      "execution_count": null,
      "id": "u7NABPBsmwwB",
      "metadata": {
        "colab": {
          "base_uri": "https://localhost:8080/"
        },
        "id": "u7NABPBsmwwB",
        "outputId": "c22759ba-116a-412a-c189-0c7a4e33bea5"
      },
      "outputs": [],
      "source": [
        "# Lightweight smoke test for qMAP-PD data\n",
        "!py310cuda run_analysis.py \\\n",
        "  --dataset qmap_pd \\\n",
        "  --K 3 \\\n",
        "  --num-samples 100 \\\n",
        "  --num-warmup 50 \\\n",
        "  --num-chains 1 \\\n",
        "  --num-runs 1 \\\n",
        "  --device gpu"
      ]
    },
    {
      "cell_type": "code",
      "execution_count": null,
      "id": "r4ozkvt6BqE5",
      "metadata": {
        "colab": {
          "base_uri": "https://localhost:8080/"
        },
        "id": "r4ozkvt6BqE5",
        "outputId": "4e6b77b3-9b01-4b1b-f03e-7894f7e7bc9b"
      },
      "outputs": [],
      "source": [
        "# Factor recovery demonstration\n",
        "!py310cuda run_analysis.py \\\n",
        "  --dataset synthetic \\\n",
        "  --K 5 \\\n",
        "  --num-samples 1000 \\\n",
        "  --num-warmup 500 \\\n",
        "  --num-chains 2 \\\n",
        "  --num-runs 3 \\\n",
        "  --percW 33 \\\n",
        "  --device gpu \\\n",
        "  --seed 42"
      ]
    },
    {
      "cell_type": "code",
      "execution_count": null,
      "id": "hpc9CU6uC4zW",
      "metadata": {
        "colab": {
          "base_uri": "https://localhost:8080/"
        },
        "id": "hpc9CU6uC4zW",
        "outputId": "3b3d1383-159e-4336-9589-cd2fa4282f2f"
      },
      "outputs": [],
      "source": [
        "# Sparsity level comparison\n",
        "sparsity_levels = [25, 50, 75]\n",
        "results_summary = []\n",
        "\n",
        "for percW in sparsity_levels:\n",
        "    print(f\"\\n Running with {percW}% sparsity...\")\n",
        "\n",
        "    result = subprocess.run([\n",
        "        \"py310cuda\", \"run_analysis.py\",\n",
        "        \"--dataset\", \"synthetic\",\n",
        "        \"--K\", \"5\",\n",
        "        \"--num-samples\", \"800\",\n",
        "        \"--num-warmup\", \"400\",\n",
        "        \"--num-chains\", \"2\",\n",
        "        \"--num-runs\", \"2\",\n",
        "        \"--percW\", str(percW),\n",
        "        \"--device\", \"gpu\",\n",
        "        \"--seed\", \"42\"\n",
        "    ], capture_output=True, text=True)\n",
        "\n",
        "    if result.returncode == 0:\n",
        "        print(f\"{percW}% sparsity completed successfully\")\n",
        "        results_summary.append(f\"{percW}% sparsity: Success\")\n",
        "    else:\n",
        "        print(f\"{percW}% sparsity failed\")\n",
        "        results_summary.append(f\"{percW}% sparsity: Failed\")\n",
        "\n",
        "print(\"\\n Sparsity Comparison Summary:\")\n",
        "for result in results_summary:\n",
        "    print(f\"   {result}\")\n",
        "print(\" Check ../results/synthetic/ folders for comparison plots\")\n"
      ]
    },
    {
      "cell_type": "code",
      "execution_count": null,
      "id": "Vw8aJ8-rDOxb",
      "metadata": {
        "colab": {
          "base_uri": "https://localhost:8080/"
        },
        "id": "Vw8aJ8-rDOxb",
        "outputId": "971021c2-3b8a-49f6-e960-6724e3199add"
      },
      "outputs": [],
      "source": [
        "# Basic qMAP-PD analysis\n",
        "try:\n",
        "    !py310cuda run_analysis.py \\\n",
        "      --dataset qmap_pd \\\n",
        "      --K 15 \\\n",
        "      --num-samples 2000 \\\n",
        "      --num-warmup 1000 \\\n",
        "      --num-chains 3 \\\n",
        "      --num-runs 3 \\\n",
        "      --percW 33 \\\n",
        "      --device gpu \\\n",
        "      --seed 42\n",
        "\n",
        "    print(\"\\n Basic qMAP-PD analysis completed!\")\n",
        "    print(\"Check ../results/qmap_pd/ for neuroimaging factor analysis results\")\n",
        "\n",
        "except Exception as e:\n",
        "    print(f\"\\n qMAP-PD analysis failed: {e}\")\n",
        "    print(\"This might be due to missing qMAP-PD dataset\")"
      ]
    },
    {
      "cell_type": "code",
      "execution_count": null,
      "id": "ekT2gGp7DV0u",
      "metadata": {
        "id": "ekT2gGp7DV0u"
      },
      "outputs": [],
      "source": [
        "# Cross-validation demonstration\n",
        "!py310cuda run_analysis.py \\\n",
        "  --dataset synthetic \\\n",
        "  --K 5 \\\n",
        "  --num-samples 800 \\\n",
        "  --num-warmup 400 \\\n",
        "  --num-chains 2 \\\n",
        "  --run-cv \\\n",
        "  --cv-folds 5 \\\n",
        "  --device gpu \\\n",
        "  --seed 42"
      ]
    },
    {
      "cell_type": "markdown",
      "id": "JheIfdUQDhpF",
      "metadata": {
        "id": "JheIfdUQDhpF"
      },
      "source": [
        "##Advanced Analysis\n",
        "\n",
        "These experiments are computationally intense, including multiple advanced machine learning methods."
      ]
    },
    {
      "cell_type": "code",
      "execution_count": null,
      "id": "io_DRPOFDljt",
      "metadata": {
        "id": "io_DRPOFDljt"
      },
      "outputs": [],
      "source": [
        "# qMAP-PD analysis with advanced preprocessing\n",
        "proceed = input(\"This is a computationally intensive analysis. Proceed? (y/N): \")\n",
        "if proceed.lower() in ['y', 'yes']:\n",
        "    !py310cuda run_analysis.py \\\n",
        "      --dataset qmap_pd \\\n",
        "      --K 20 \\\n",
        "      --num-samples 3000 \\\n",
        "      --num-warmup 1500 \\\n",
        "      --num-chains 4 \\\n",
        "      --num-runs 5 \\\n",
        "      --percW 33 \\\n",
        "      --enable-preprocessing \\\n",
        "      --feature-selection statistical \\\n",
        "      --n-top-features 500 \\\n",
        "      --imputation-strategy knn \\\n",
        "      --optimize-preprocessing \\\n",
        "      --cross-validate-sources \\\n",
        "      --device gpu \\\n",
        "      --seed 42\n",
        "\n",
        "    print(\"\\n Advanced preprocessing analysis completed!\")\n",
        "    print(\" Results include preprocessing optimization reports\")\n",
        "else:\n",
        "    print(\"Skipping intensive preprocessing analysis.\")"
      ]
    },
    {
      "cell_type": "code",
      "execution_count": null,
      "id": "VBni6mZfDv5b",
      "metadata": {
        "id": "VBni6mZfDv5b"
      },
      "outputs": [],
      "source": [
        "# Nested cross-validation\n",
        "proceed = input(\"This is the most computationally intensive analysis. Proceed? (y/N): \")\n",
        "if proceed.lower() in ['y', 'yes']:\n",
        "    !py310cuda run_analysis.py \\\n",
        "      --dataset qmap_pd \\\n",
        "      --K 20 \\\n",
        "      --num-samples 2000 \\\n",
        "      --num-warmup 1000 \\\n",
        "      --num-chains 3 \\\n",
        "      --nested-cv \\\n",
        "      --cv-folds 5 \\\n",
        "      --enable-preprocessing \\\n",
        "      --feature-selection combined \\\n",
        "      --optimize-preprocessing \\\n",
        "      --create-factor-maps \\\n",
        "      --create-comprehensive-viz \\\n",
        "      --device gpu \\\n",
        "      --seed 42\n",
        "\n",
        "    print(\"\\n Nested cross-validation analysis completed!\")\n",
        "    print(\" Complete validation results with hyperparameter optimization\")\n",
        "    print(\" Factor-to-brain mapping results generated\")\n",
        "else:\n",
        "    print(\"Skipping nested cross-validation analysis.\")"
      ]
    },
    {
      "cell_type": "code",
      "execution_count": null,
      "id": "7BswKDDKEG2A",
      "metadata": {
        "id": "7BswKDDKEG2A"
      },
      "outputs": [],
      "source": [
        "# Full comprehensive pipeline\n",
        "proceed = input(\"This is the complete analysis pipeline. Proceed? (y/N): \")\n",
        "if proceed.lower() in ['y', 'yes']:\n",
        "    !py310cuda run_analysis.py \\\n",
        "      --dataset qmap_pd \\\n",
        "      --K 25 \\\n",
        "      --num-samples 5000 \\\n",
        "      --num-warmup 2500 \\\n",
        "      --num-chains 4 \\\n",
        "      --num-runs 5 \\\n",
        "      --percW 33 \\\n",
        "      --enable-preprocessing \\\n",
        "      --feature-selection combined \\\n",
        "      --n-top-features 1000 \\\n",
        "      --imputation-strategy iterative \\\n",
        "      --optimize-preprocessing \\\n",
        "      --cross-validate-sources \\\n",
        "      --run-cv \\\n",
        "      --cv-folds 7 \\\n",
        "      --create-factor-maps \\\n",
        "      --create-comprehensive-viz \\\n",
        "      --device gpu \\\n",
        "      --seed 42\n",
        "\n",
        "    print(\"\\n Comprehensive analysis completed!\")\n",
        "    print(\" Results generated\")\n",
        "else:\n",
        "    print(\"Skipping comprehensive analysis.\")"
      ]
    }
  ],
  "metadata": {
    "accelerator": "GPU",
    "colab": {
      "gpuType": "A100",
      "machine_shape": "hm",
      "provenance": []
    },
    "kernelspec": {
      "display_name": "Python 3",
      "name": "python3"
    },
    "language_info": {
      "name": "python"
    }
  },
  "nbformat": 4,
  "nbformat_minor": 5
}
