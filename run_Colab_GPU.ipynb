{
  "cells": [
    {
      "cell_type": "markdown",
      "id": "2943f201",
      "metadata": {
        "id": "2943f201"
      },
      "source": [
        "#Environment Set Up\n",
        "\n",
        "Creates a Python 3.10 kernel within Colab, clones the repository and installs pinned dependencies. Installs compatible versions of JAX (CUDA) and NumPyro and CUDA JAX and NVIDIA CUDA wheels.\n",
        "Creates a py310cuda launcher fixed on the correct libraries."
      ]
    },
    {
      "cell_type": "markdown",
      "id": "cwRO_dZf_R8l",
      "metadata": {
        "id": "cwRO_dZf_R8l"
      },
      "source": [
        "##Directory\n",
        "Clones the GitHub repository and mounts to Google Drive to store results."
      ]
    },
    {
      "cell_type": "code",
      "execution_count": null,
      "id": "76a10592",
      "metadata": {
        "id": "76a10592"
      },
      "outputs": [],
      "source": [
        "import os, subprocess, sys, stat, textwrap, pathlib, shutil, json\n",
        "\n",
        "REPO = \"/content/sgfa_qmap-pd\""
      ]
    },
    {
      "cell_type": "code",
      "execution_count": 16,
      "id": "b92ce943",
      "metadata": {
        "id": "b92ce943"
      },
      "outputs": [],
      "source": [
        "# Clone the repository\n",
        "os.chdir(\"/content\")\n",
        "subprocess.run([\"rm\",\"-rf\",\"sgfa_qmap-pd\"])\n",
        "subprocess.check_call([\"git\",\"clone\",\"https://github.com/meeramads/sgfa_qmap-pd.git\"])\n",
        "os.chdir(REPO)"
      ]
    },
    {
      "cell_type": "code",
      "execution_count": null,
      "id": "9ipzIkySm4Ja",
      "metadata": {
        "colab": {
          "base_uri": "https://localhost:8080/"
        },
        "id": "9ipzIkySm4Ja",
        "outputId": "9b95e4b8-5f3d-4676-f0c5-92912c16a97a"
      },
      "outputs": [],
      "source": [
        "from google.colab import drive\n",
        "from pathlib import Path\n",
        "drive.mount('/content/drive')"
      ]
    },
    {
      "cell_type": "code",
      "execution_count": null,
      "id": "g89Hv7Er-Pad",
      "metadata": {
        "colab": {
          "base_uri": "https://localhost:8080/"
        },
        "id": "g89Hv7Er-Pad",
        "outputId": "9515b47a-6e69-4bcf-f47b-8d447bcfeb31"
      },
      "outputs": [],
      "source": [
        "drive_path = \"/content/drive/MyDrive/sgfa_results\"\n",
        "\n",
        "if os.path.exists(drive_path):\n",
        "    if os.path.isfile(drive_path):\n",
        "        print(f\"Found a FILE named 'sgfa_results' - renaming it to 'sgfa_results_backup'\")\n",
        "        shutil.move(drive_path, \"/content/drive/MyDrive/sgfa_results_backup\")\n",
        "        os.makedirs(drive_path)\n",
        "    elif os.path.isdir(drive_path):\n",
        "        print(f\"Found existing DIRECTORY 'sgfa_results' - checking contents...\")\n",
        "        contents = list(os.listdir(drive_path))\n",
        "        if contents:\n",
        "            print(f\"   Contains {len(contents)} items: {contents[:5]}{'...' if len(contents) > 5 else ''}\")\n",
        "            print(\"   Will preserve existing results and add new ones\")\n",
        "        else:\n",
        "            print(\"   Directory is empty - ready to use\")\n",
        "else:\n",
        "    print(\"Creating new 'sgfa_results' directory\")\n",
        "    os.makedirs(drive_path)"
      ]
    },
    {
      "cell_type": "code",
      "execution_count": null,
      "id": "4rOFd1oi-RFU",
      "metadata": {
        "colab": {
          "base_uri": "https://localhost:8080/"
        },
        "id": "4rOFd1oi-RFU",
        "outputId": "27dc2ac2-b6bf-4fa9-c35b-f38ff028c03a"
      },
      "outputs": [],
      "source": [
        "results_link = \"../results\"\n",
        "\n",
        "if os.path.exists(results_link):\n",
        "    if os.path.islink(results_link):\n",
        "        print(\"Removing existing symlink\")\n",
        "        os.unlink(results_link)\n",
        "    elif os.path.isdir(results_link):\n",
        "        print(\"Found existing results directory - backing up first\")\n",
        "        if os.listdir(results_link):\n",
        "            backup_path = \"/content/drive/MyDrive/sgfa_results_local_backup\"\n",
        "            shutil.move(results_link, backup_path)\n",
        "            print(f\"   Moved to {backup_path}\")\n",
        "        else:\n",
        "            shutil.rmtree(results_link)"
      ]
    },
    {
      "cell_type": "code",
      "execution_count": null,
      "id": "XzfUUoVK-8Oq",
      "metadata": {
        "colab": {
          "base_uri": "https://localhost:8080/"
        },
        "id": "XzfUUoVK-8Oq",
        "outputId": "d549881b-f747-4e78-f249-b8646c9a62b1"
      },
      "outputs": [],
      "source": [
        "print(\"Creating symlink to Google Drive...\")\n",
        "os.symlink(drive_path, results_link)"
      ]
    },
    {
      "cell_type": "code",
      "execution_count": null,
      "id": "rMFabjJ6-81w",
      "metadata": {
        "colab": {
          "base_uri": "https://localhost:8080/"
        },
        "id": "rMFabjJ6-81w",
        "outputId": "0ba2ea03-fb10-491f-8218-56eb84416b3c"
      },
      "outputs": [],
      "source": [
        "print(\"Setup complete! Testing...\")\n",
        "test_dir = f\"{results_link}/test_directory\"\n",
        "os.makedirs(test_dir, exist_ok=True)"
      ]
    },
    {
      "cell_type": "code",
      "execution_count": 22,
      "id": "jGSjOYb2AfR7",
      "metadata": {
        "id": "jGSjOYb2AfR7"
      },
      "outputs": [],
      "source": [
        "with open(f\"{test_dir}/test_file.txt\", \"w\") as f:\n",
        "    f.write(\"This file should persist across disconnections!\")"
      ]
    },
    {
      "cell_type": "code",
      "execution_count": null,
      "id": "QIL1kvbgAf_h",
      "metadata": {
        "colab": {
          "base_uri": "https://localhost:8080/"
        },
        "id": "QIL1kvbgAf_h",
        "outputId": "718b8220-bf88-4a75-d5d4-d04aa0489428"
      },
      "outputs": [],
      "source": [
        "if os.path.exists(f\"{drive_path}/test_directory/test_file.txt\"):\n",
        "    print(\"SUCCESS: Files will now persist across disconnections!\")\n",
        "    print(f\"Results location: {drive_path}\")\n",
        "    print(f\"Symlink: {results_link} -> {drive_path}\")\n",
        "else:\n",
        "    print(\"ERROR: Symlink setup failed\")"
      ]
    },
    {
      "cell_type": "code",
      "execution_count": null,
      "id": "pditjzMgA9bm",
      "metadata": {
        "colab": {
          "base_uri": "https://localhost:8080/"
        },
        "id": "pditjzMgA9bm",
        "outputId": "321cc6e9-8576-4574-a74a-0e3ca8be56ec"
      },
      "outputs": [],
      "source": [
        "shutil.rmtree(test_dir)\n",
        "print(\"Cleaned up test files\")"
      ]
    },
    {
      "cell_type": "markdown",
      "id": "83w0lfou_0NP",
      "metadata": {
        "id": "83w0lfou_0NP"
      },
      "source": [
        "##Python and CUDA environment\n",
        "\n",
        "Must be connected to a GPU runtime. Sets up the Python 3.10 environment, JAX and CUDA libraries to coordinate with GPU usage. **Has to be run before any experiments.**"
      ]
    },
    {
      "cell_type": "code",
      "execution_count": null,
      "id": "21bea82d",
      "metadata": {
        "colab": {
          "base_uri": "https://localhost:8080/"
        },
        "id": "21bea82d",
        "outputId": "94db7cff-fb89-4c75-bf8a-87d903ea2145"
      },
      "outputs": [],
      "source": [
        "# Install Python 3.10 side-by-side\n",
        "subprocess.check_call([\"wget\",\"-q\",\"https://github.com/korakot/kora/releases/download/v0.10/py310.sh\"])\n",
        "subprocess.check_call([\"bash\",\"./py310.sh\",\"-b\",\"-f\",\"-p\",\"/usr/local\"])\n",
        "subprocess.check_call([\"python3.10\",\"-V\"])"
      ]
    },
    {
      "cell_type": "code",
      "execution_count": null,
      "id": "05ebe654",
      "metadata": {
        "colab": {
          "base_uri": "https://localhost:8080/"
        },
        "id": "05ebe654",
        "outputId": "f922eb30-9626-402e-a370-a5913bb74553"
      },
      "outputs": [],
      "source": [
        "# Install dependencies\n",
        "subprocess.check_call([\"python3.10\",\"-m\",\"pip\",\"install\",\"-U\",\"pip\"])\n",
        "subprocess.check_call([\"python3.10\",\"-m\",\"pip\",\"install\",\"-r\",\"requirements.txt\"])"
      ]
    },
    {
      "cell_type": "code",
      "execution_count": null,
      "id": "30ab768e",
      "metadata": {
        "colab": {
          "base_uri": "https://localhost:8080/"
        },
        "id": "30ab768e",
        "outputId": "d2b74a4e-939a-4792-e710-2d8647bafd6a"
      },
      "outputs": [],
      "source": [
        "# Set up JAX (CUDA) + NumPyro to ensure compatibility\n",
        "subprocess.run([\"python3.10\",\"-m\",\"pip\",\"uninstall\",\"-y\",\"jax\",\"jaxlib\"])\n",
        "subprocess.check_call([\n",
        "    \"python3.10\",\"-m\",\"pip\",\"install\",\"-U\",\n",
        "    \"jax[cuda12_pip]==0.4.20\",\"-f\",\"https://storage.googleapis.com/jax-releases/jax_cuda_releases.html\"\n",
        "])\n",
        "subprocess.check_call([\"python3.10\",\"-m\",\"pip\",\"install\",\"numpyro==0.13.2\"])"
      ]
    },
    {
      "cell_type": "code",
      "execution_count": null,
      "id": "061c1aed",
      "metadata": {
        "colab": {
          "base_uri": "https://localhost:8080/"
        },
        "id": "061c1aed",
        "outputId": "a0996ade-da35-44d1-c43d-e02a65a4584f"
      },
      "outputs": [],
      "source": [
        "# NVIDIA CUDA libraries into the *py310* site-packages\n",
        "subprocess.check_call([\"python3.10\",\"-m\",\"pip\",\"install\",\"-q\",\n",
        "    \"nvidia-cudnn-cu12>=8.9,<9\",\n",
        "    \"nvidia-cublas-cu12>=12.2\",\n",
        "    \"nvidia-cuda-runtime-cu12>=12.2\",\n",
        "    \"nvidia-cusolver-cu12>=11.4\",\n",
        "    \"nvidia-cusparse-cu12>=12.1\",\n",
        "    \"nvidia-cufft-cu12>=11.0\",\n",
        "    \"nvidia-cuda-cupti-cu12>=12.2\",\n",
        "    \"nvidia-nvjitlink-cu12>=12.2\",\n",
        "    \"nvidia-nccl-cu12>=2.18\",\n",
        "])"
      ]
    },
    {
      "cell_type": "code",
      "execution_count": 29,
      "id": "36f38bae",
      "metadata": {
        "id": "36f38bae"
      },
      "outputs": [],
      "source": [
        "# Build LD_LIBRARY_PATH for those wheels and write a launcher\n",
        "py310_site = subprocess.check_output(\n",
        "    [\"python3.10\",\"-c\",\"import site; print(site.getsitepackages()[0])\"],\n",
        "    text=True\n",
        ").strip()\n",
        "subdirs = [\"cudnn/lib\",\"cublas/lib\",\"cufft/lib\",\"cusolver/lib\",\"cusparse/lib\",\n",
        "           \"cuda_runtime/lib\",\"cuda_cupti/lib\",\"nvjitlink/lib\",\"nccl/lib\"]\n",
        "lib_paths = [os.path.join(py310_site,\"nvidia\",d) for d in subdirs]\n",
        "lib_paths = [p for p in lib_paths if os.path.isdir(p)]\n",
        "LD = \":\".join(lib_paths)\n",
        "\n",
        "wrapper = \"/usr/local/bin/py310cuda\"\n",
        "pathlib.Path(wrapper).write_text(textwrap.dedent(f\"\"\"\\\n",
        "#!/bin/bash\n",
        "export LD_LIBRARY_PATH=\"{LD}:$LD_LIBRARY_PATH\"\n",
        "export XLA_PYTHON_CLIENT_PREALLOCATE=false\n",
        "export XLA_PYTHON_CLIENT_MEM_FRACTION=0.70\n",
        "export JAX_PLATFORM_NAME=gpu\n",
        "exec python3.10 \"$@\"\n",
        "\"\"\"))\n",
        "os.chmod(wrapper, os.stat(wrapper).st_mode | stat.S_IEXEC)"
      ]
    },
    {
      "cell_type": "code",
      "execution_count": null,
      "id": "442b29cb",
      "metadata": {
        "colab": {
          "base_uri": "https://localhost:8080/"
        },
        "id": "442b29cb",
        "outputId": "e170cc6b-9e7a-4ce3-ae64-b429064dd59f"
      },
      "outputs": [],
      "source": [
        "# Verify JAX sees the GPU\n",
        "subprocess.check_call([\n",
        "    \"py310cuda\",\"-c\",\n",
        "    \"import jax; print('backend:', jax.lib.xla_bridge.get_backend().platform, '| devices:', jax.devices())\"\n",
        "])"
      ]
    },
    {
      "cell_type": "code",
      "execution_count": null,
      "id": "11e03bcf",
      "metadata": {
        "colab": {
          "base_uri": "https://localhost:8080/"
        },
        "id": "11e03bcf",
        "outputId": "e6301284-6987-47a8-dac5-a1c505b6f42f"
      },
      "outputs": [],
      "source": [
        "# Double check\n",
        "!py310cuda -c \"import jax; print('backend:', jax.lib.xla_bridge.get_backend().platform, '| devices:', jax.devices())\""
      ]
    },
    {
      "cell_type": "markdown",
      "id": "602a9caa",
      "metadata": {
        "id": "602a9caa"
      },
      "source": [
        "---\n",
        "\n",
        "# Training the model\n",
        "\n",
        "Call  ```!py310cuda run_analysis.py``` with the flag ```--device gpu```.\n",
        "\n",
        "Run ```!py310cuda run_analysis.py --help || py310cuda run_analysis.py -h``` for detailed information on other available flags."
      ]
    },
    {
      "cell_type": "code",
      "execution_count": null,
      "id": "YX_waabPPWWD",
      "metadata": {
        "colab": {
          "base_uri": "https://localhost:8080/"
        },
        "id": "YX_waabPPWWD",
        "outputId": "c689a0d9-f62e-48a3-c0aa-70221f653ad9"
      },
      "outputs": [],
      "source": [
        "!git pull"
      ]
    },
    {
      "cell_type": "code",
      "execution_count": null,
      "id": "FySU44ge7BWi",
      "metadata": {
        "colab": {
          "base_uri": "https://localhost:8080/"
        },
        "id": "FySU44ge7BWi",
        "outputId": "1a5b0225-e3a8-4402-f041-fe588262d3c6"
      },
      "outputs": [],
      "source": [
        "subprocess.run([\"rm\",\"-rf\",\"results\"])"
      ]
    },
    {
      "cell_type": "code",
      "execution_count": null,
      "id": "jqF9DFk_9SNQ",
      "metadata": {
        "colab": {
          "base_uri": "https://localhost:8080/"
        },
        "collapsed": true,
        "id": "jqF9DFk_9SNQ",
        "outputId": "cc933e14-e33d-4cf4-a8a8-676b892f18d3"
      },
      "outputs": [],
      "source": [
        "!ls"
      ]
    },
    {
      "cell_type": "code",
      "execution_count": null,
      "id": "Wpxw-_qiw4-X",
      "metadata": {
        "collapsed": true,
        "id": "Wpxw-_qiw4-X"
      },
      "outputs": [],
      "source": [
        "# Lightweight smoke test for synthetic data\n",
        "!py310cuda run_analysis.py \\\n",
        "  --dataset synthetic \\\n",
        "  --K 3 \\\n",
        "  --num-samples 100 \\\n",
        "  --num-warmup 50 \\\n",
        "  --num-chains 1 \\\n",
        "  --num-runs 1 \\\n",
        "  --percW 33 \\\n",
        "  --seed 42 \\\n",
        "  --device gpu"
      ]
    },
    {
      "cell_type": "code",
      "execution_count": null,
      "id": "WOroMQJKCU7m",
      "metadata": {
        "collapsed": true,
        "id": "WOroMQJKCU7m"
      },
      "outputs": [],
      "source": [
        "# Preprocessing smoke test\n",
        "!py310cuda run_analysis.py \\\n",
        "      --dataset qmap_pd \\\n",
        "      --K 3 \\\n",
        "      --num-samples 100 \\\n",
        "      --num-warmup 50 \\\n",
        "      --num-chains 1 \\\n",
        "      --num-runs 1 \\\n",
        "      --enable_preprocessing \\\n",
        "      --feature_selection variance \\\n",
        "      --n_top_features 100 \\\n",
        "      --device gpu \\\n",
        "      --seed 42"
      ]
    },
    {
      "cell_type": "code",
      "execution_count": null,
      "id": "nVq7NOJ9Ce71",
      "metadata": {
        "id": "nVq7NOJ9Ce71"
      },
      "outputs": [],
      "source": [
        "# Cross-validation smoke test\n",
        "!py310cuda run_analysis.py \\\n",
        "  --dataset synthetic \\\n",
        "  --K 3 \\\n",
        "  --num-samples 50 \\\n",
        "  --num-warmup 25 \\\n",
        "  --num-chains 1 \\\n",
        "  --cv_only \\\n",
        "  --cv_folds 3 \\\n",
        "  --device gpu \\\n",
        "  --seed 42"
      ]
    },
    {
      "cell_type": "code",
      "execution_count": null,
      "id": "u7NABPBsmwwB",
      "metadata": {
        "colab": {
          "base_uri": "https://localhost:8080/"
        },
        "id": "u7NABPBsmwwB",
        "outputId": "c22759ba-116a-412a-c189-0c7a4e33bea5"
      },
      "outputs": [],
      "source": [
        "# Lightweight smoke test for qMAP-PD data\n",
        "!py310cuda run_analysis.py \\\n",
        "  --dataset qmap_pd \\\n",
        "  --K 3 \\\n",
        "  --num-samples 100 \\\n",
        "  --num-warmup 50 \\\n",
        "  --num-chains 1 \\\n",
        "  --num-runs 1 \\\n",
        "  --device gpu"
      ]
    },
    {
      "cell_type": "code",
      "execution_count": null,
      "id": "r4ozkvt6BqE5",
      "metadata": {
        "colab": {
          "base_uri": "https://localhost:8080/"
        },
        "id": "r4ozkvt6BqE5",
        "outputId": "4e6b77b3-9b01-4b1b-f03e-7894f7e7bc9b"
      },
      "outputs": [],
      "source": [
        "# Factor recovery demonstration\n",
        "!py310cuda run_analysis.py \\\n",
        "  --dataset synthetic \\\n",
        "  --K 5 \\\n",
        "  --num-samples 1000 \\\n",
        "  --num-warmup 500 \\\n",
        "  --num-chains 2 \\\n",
        "  --num-runs 3 \\\n",
        "  --percW 33 \\\n",
        "  --device gpu \\\n",
        "  --seed 42"
      ]
    },
    {
      "cell_type": "code",
      "execution_count": null,
      "id": "hpc9CU6uC4zW",
      "metadata": {
        "colab": {
          "base_uri": "https://localhost:8080/"
        },
        "id": "hpc9CU6uC4zW",
        "outputId": "3b3d1383-159e-4336-9589-cd2fa4282f2f"
      },
      "outputs": [],
      "source": [
        "# Sparsity level comparison\n",
        "sparsity_levels = [25, 50, 75]\n",
        "results_summary = []\n",
        "\n",
        "for percW in sparsity_levels:\n",
        "    print(f\"\\n Running with {percW}% sparsity...\")\n",
        "\n",
        "    result = subprocess.run([\n",
        "        \"py310cuda\", \"run_analysis.py\",\n",
        "        \"--dataset\", \"synthetic\",\n",
        "        \"--K\", \"5\",\n",
        "        \"--num-samples\", \"800\",\n",
        "        \"--num-warmup\", \"400\",\n",
        "        \"--num-chains\", \"2\",\n",
        "        \"--num-runs\", \"2\",\n",
        "        \"--percW\", str(percW),\n",
        "        \"--device\", \"gpu\",\n",
        "        \"--seed\", \"42\"\n",
        "    ], capture_output=True, text=True)\n",
        "\n",
        "    if result.returncode == 0:\n",
        "        print(f\"{percW}% sparsity completed successfully\")\n",
        "        results_summary.append(f\"{percW}% sparsity: Success\")\n",
        "    else:\n",
        "        print(f\"{percW}% sparsity failed\")\n",
        "        results_summary.append(f\"{percW}% sparsity: Failed\")\n",
        "\n",
        "print(\"\\n Sparsity Comparison Summary:\")\n",
        "for result in results_summary:\n",
        "    print(f\"   {result}\")\n",
        "print(\" Check ../results/synthetic/ folders for comparison plots\")\n"
      ]
    },
    {
      "cell_type": "code",
      "execution_count": null,
      "id": "Vw8aJ8-rDOxb",
      "metadata": {
        "colab": {
          "base_uri": "https://localhost:8080/"
        },
        "id": "Vw8aJ8-rDOxb",
        "outputId": "971021c2-3b8a-49f6-e960-6724e3199add"
      },
      "outputs": [],
      "source": [
        "# Basic qMAP-PD analysis\n",
        "try:\n",
        "    !py310cuda run_analysis.py \\\n",
        "      --dataset qmap_pd \\\n",
        "      --K 15 \\\n",
        "      --num-samples 2000 \\\n",
        "      --num-warmup 1000 \\\n",
        "      --num-chains 3 \\\n",
        "      --num-runs 3 \\\n",
        "      --percW 33 \\\n",
        "      --device gpu \\\n",
        "      --seed 42\n",
        "\n",
        "    print(\"\\n Basic qMAP-PD analysis completed!\")\n",
        "    print(\"Check ../results/qmap_pd/ for neuroimaging factor analysis results\")\n",
        "\n",
        "except Exception as e:\n",
        "    print(f\"\\n qMAP-PD analysis failed: {e}\")\n",
        "    print(\"This might be due to missing qMAP-PD dataset\")"
      ]
    },
    {
      "cell_type": "code",
      "execution_count": null,
      "id": "ekT2gGp7DV0u",
      "metadata": {
        "id": "ekT2gGp7DV0u"
      },
      "outputs": [],
      "source": [
        "# Cross-validation demonstration\n",
        "!py310cuda run_analysis.py \\\n",
        "  --dataset synthetic \\\n",
        "  --K 5 \\\n",
        "  --num-samples 800 \\\n",
        "  --num-warmup 400 \\\n",
        "  --num-chains 2 \\\n",
        "  --run-cv \\\n",
        "  --cv-folds 5 \\\n",
        "  --device gpu \\\n",
        "  --seed 42"
      ]
    },
    {
      "cell_type": "markdown",
      "id": "JheIfdUQDhpF",
      "metadata": {
        "id": "JheIfdUQDhpF"
      },
      "source": [
        "##Advanced Analysis\n",
        "\n",
        "These experiments are computationally intense, including multiple advanced machine learning methods."
      ]
    },
    {
      "cell_type": "code",
      "execution_count": null,
      "id": "io_DRPOFDljt",
      "metadata": {
        "id": "io_DRPOFDljt"
      },
      "outputs": [],
      "source": [
        "# qMAP-PD analysis with advanced preprocessing\n",
        "proceed = input(\"This is a computationally intensive analysis. Proceed? (y/N): \")\n",
        "if proceed.lower() in ['y', 'yes']:\n",
        "    !py310cuda run_analysis.py \\\n",
        "      --dataset qmap_pd \\\n",
        "      --K 20 \\\n",
        "      --num-samples 3000 \\\n",
        "      --num-warmup 1500 \\\n",
        "      --num-chains 4 \\\n",
        "      --num-runs 5 \\\n",
        "      --percW 33 \\\n",
        "      --enable-preprocessing \\\n",
        "      --feature-selection statistical \\\n",
        "      --n-top-features 500 \\\n",
        "      --imputation-strategy knn \\\n",
        "      --optimize-preprocessing \\\n",
        "      --cross-validate-sources \\\n",
        "      --device gpu \\\n",
        "      --seed 42\n",
        "\n",
        "    print(\"\\n Advanced preprocessing analysis completed!\")\n",
        "    print(\" Results include preprocessing optimization reports\")\n",
        "else:\n",
        "    print(\"Skipping intensive preprocessing analysis.\")"
      ]
    },
    {
      "cell_type": "code",
      "execution_count": null,
      "id": "VBni6mZfDv5b",
      "metadata": {
        "id": "VBni6mZfDv5b"
      },
      "outputs": [],
      "source": [
        "# Nested cross-validation\n",
        "proceed = input(\"This is the most computationally intensive analysis. Proceed? (y/N): \")\n",
        "if proceed.lower() in ['y', 'yes']:\n",
        "    !py310cuda run_analysis.py \\\n",
        "      --dataset qmap_pd \\\n",
        "      --K 20 \\\n",
        "      --num-samples 2000 \\\n",
        "      --num-warmup 1000 \\\n",
        "      --num-chains 3 \\\n",
        "      --nested-cv \\\n",
        "      --cv-folds 5 \\\n",
        "      --enable-preprocessing \\\n",
        "      --feature-selection combined \\\n",
        "      --optimize-preprocessing \\\n",
        "      --create-factor-maps \\\n",
        "      --create-comprehensive-viz \\\n",
        "      --device gpu \\\n",
        "      --seed 42\n",
        "\n",
        "    print(\"\\n Nested cross-validation analysis completed!\")\n",
        "    print(\" Complete validation results with hyperparameter optimization\")\n",
        "    print(\" Factor-to-brain mapping results generated\")\n",
        "else:\n",
        "    print(\"Skipping nested cross-validation analysis.\")"
      ]
    },
    {
      "cell_type": "code",
      "execution_count": null,
      "id": "7BswKDDKEG2A",
      "metadata": {
        "id": "7BswKDDKEG2A"
      },
      "outputs": [],
      "source": [
        "# Full comprehensive pipeline\n",
        "proceed = input(\"This is the complete analysis pipeline. Proceed? (y/N): \")\n",
        "if proceed.lower() in ['y', 'yes']:\n",
        "    !py310cuda run_analysis.py \\\n",
        "      --dataset qmap_pd \\\n",
        "      --K 25 \\\n",
        "      --num-samples 5000 \\\n",
        "      --num-warmup 2500 \\\n",
        "      --num-chains 4 \\\n",
        "      --num-runs 5 \\\n",
        "      --percW 33 \\\n",
        "      --enable-preprocessing \\\n",
        "      --feature-selection combined \\\n",
        "      --n-top-features 1000 \\\n",
        "      --imputation-strategy iterative \\\n",
        "      --optimize-preprocessing \\\n",
        "      --cross-validate-sources \\\n",
        "      --run-cv \\\n",
        "      --cv-folds 7 \\\n",
        "      --create-factor-maps \\\n",
        "      --create-comprehensive-viz \\\n",
        "      --device gpu \\\n",
        "      --seed 42\n",
        "\n",
        "    print(\"\\n Comprehensive analysis completed!\")\n",
        "    print(\" Results generated\")\n",
        "else:\n",
        "    print(\"Skipping comprehensive analysis.\")"
      ]
    },
    {
      "cell_type": "markdown",
      "id": "f615a61f",
      "metadata": {},
      "source": [
        "# Optimizing the Sparse GFA Pipeline \n",
        "### Training on qMAP-PD data\n",
        "\n",
        "Modular format to optimize different pipeline elements using several GPUs in serial or in parallel."
      ]
    },
    {
      "cell_type": "code",
      "execution_count": null,
      "id": "db936d95",
      "metadata": {},
      "outputs": [],
      "source": [
        "# =============================================================================\n",
        "# MODULE 0: QUICK VALIDATION (Run this first anywhere)\n",
        "# =============================================================================\n",
        "\n",
        "def run_quick_validation():\n",
        "    print(\"MODULE 0: QUICK VALIDATION\")\n",
        "    print(\"-\" * 40)\n",
        "    \n",
        "    print(\"Synthetic validation test...\")\n",
        "    !py310cuda run_analysis.py \\\n",
        "        --dataset synthetic \\\n",
        "        --K 3 \\\n",
        "        --num-samples 200 \\\n",
        "        --num-warmup 100 \\\n",
        "        --num-chains 1 \\\n",
        "        --num-runs 1 \\\n",
        "        --device gpu \\\n",
        "        --seed 42\n",
        "    \n",
        "    print(\"qMAP-PD basic test...\")\n",
        "    !py310cuda run_analysis.py \\\n",
        "        --dataset qmap_pd \\\n",
        "        --K 5 \\\n",
        "        --num-samples 300 \\\n",
        "        --num-warmup 150 \\\n",
        "        --num-chains 1 \\\n",
        "        --num-runs 1 \\\n",
        "        --device gpu \\\n",
        "        --seed 42\n",
        "    \n",
        "    print(\"Validation complete - pipeline is working!\")\n",
        "\n",
        "# Uncomment to run:\n",
        "# run_quick_validation()"
      ]
    },
    {
      "cell_type": "code",
      "execution_count": null,
      "id": "f0240e6e",
      "metadata": {},
      "outputs": [],
      "source": [
        "# =============================================================================\n",
        "# MODULE 1: PREPROCESSING OPTIMIZATION\n",
        "# Moderate computational load\n",
        "# =============================================================================\n",
        "\n",
        "def run_preprocessing_optimization():\n",
        "    print(\"MODULE 1: PREPROCESSING OPTIMIZATION\")\n",
        "    print(\"-\" * 40)\n",
        "    \n",
        "    # Test 1: Imputation strategies\n",
        "    imputation_strategies = ['median', 'knn', 'iterative']\n",
        "    \n",
        "    print(\"Testing imputation strategies...\")\n",
        "    for strategy in imputation_strategies:\n",
        "        print(f\"   Testing {strategy} imputation...\")\n",
        "        \n",
        "        !py310cuda run_analysis.py \\\n",
        "            --dataset qmap_pd \\\n",
        "            --K 10 \\\n",
        "            --num-samples 800 \\\n",
        "            --num-warmup 400 \\\n",
        "            --num-chains 1 \\\n",
        "            --num-runs 1 \\\n",
        "            --enable_preprocessing \\\n",
        "            --imputation_strategy $strategy \\\n",
        "            --feature_selection variance \\\n",
        "            --n_top_features 300 \\\n",
        "            --device gpu \\\n",
        "            --seed 42\n",
        "    \n",
        "    # Test 2: Feature selection methods\n",
        "    feature_methods = ['variance', 'statistical', 'combined']\n",
        "    \n",
        "    print(\"\\n Testing feature selection...\")\n",
        "    for method in feature_methods:\n",
        "        print(f\"   Testing {method} selection...\")\n",
        "        \n",
        "        !py310cuda run_analysis.py \\\n",
        "            --dataset qmap_pd \\\n",
        "            --K 10 \\\n",
        "            --num-samples 800 \\\n",
        "            --num-warmup 400 \\\n",
        "            --num-chains 1 \\\n",
        "            --num-runs 1 \\\n",
        "            --enable_preprocessing \\\n",
        "            --imputation_strategy knn \\\n",
        "            --feature_selection $method \\\n",
        "            --n_top_features 300 \\\n",
        "            --device gpu \\\n",
        "            --seed 42\n",
        "    \n",
        "    # Test 3: Feature counts\n",
        "    feature_counts = [200, 400, 600]\n",
        "    \n",
        "    print(\"\\n Testing feature counts...\")\n",
        "    for n_features in feature_counts:\n",
        "        print(f\"   Testing {n_features} features...\")\n",
        "        \n",
        "        !py310cuda run_analysis.py \\\n",
        "            --dataset qmap_pd \\\n",
        "            --K 10 \\\n",
        "            --num-samples 800 \\\n",
        "            --num-warmup 400 \\\n",
        "            --num-chains 1 \\\n",
        "            --num-runs 1 \\\n",
        "            --enable_preprocessing \\\n",
        "            --imputation_strategy knn \\\n",
        "            --feature_selection combined \\\n",
        "            --n_top_features $n_features \\\n",
        "            --device gpu \\\n",
        "            --seed 42\n",
        "    \n",
        "    print(\"\\n MODULE 1 COMPLETE\")\n",
        "    print(\"Next: Compare results and choose best preprocessing\")\n",
        "    \n",
        "    # Save recommendations file\n",
        "    recommendations = {\n",
        "        \"module\": \"preprocessing_optimization\",\n",
        "        \"completed\": True,\n",
        "        \"next_steps\": [\n",
        "            \"Compare CV scores across imputation strategies\",\n",
        "            \"Check factor interpretability with different feature selection\",\n",
        "            \"Choose optimal feature count based on performance\",\n",
        "            \"Update BEST_* parameters in Module 2\"\n",
        "        ],\n",
        "        \"results_location\": \"../results/qmap_pd/\",\n",
        "        \"key_metrics\": [\"mean CV R²\", \"factor loading interpretability\", \"convergence quality\"]\n",
        "    }\n",
        "    \n",
        "    with open(\"module1_results.json\", \"w\") as f:\n",
        "        json.dump(recommendations, f, indent=2)\n",
        "    \n",
        "    print(\"Results summary saved to: module1_results.json\")\n",
        "\n",
        "# Uncomment to run:\n",
        "# run_preprocessing_optimization()"
      ]
    },
    {
      "cell_type": "code",
      "execution_count": null,
      "id": "e9ed08c6",
      "metadata": {},
      "outputs": [],
      "source": [
        "# =============================================================================\n",
        "# MODULE 2: HYPERPARAMETER OPTIMIZATION\n",
        "# Relatively intensive\n",
        "# =============================================================================\n",
        "\n",
        "def run_hyperparameter_optimization():\n",
        "    print(\"MODULE 2: HYPERPARAMETER OPTIMIZATION\")\n",
        "    print(\"-\" * 40)\n",
        "    \n",
        "    # Use best preprocessing from Module 1 (update these!)\n",
        "    BEST_IMPUTATION = \"knn\"              # Update from Module 1\n",
        "    BEST_FEATURE_SELECTION = \"combined\"  # Update from Module 1\n",
        "    BEST_N_FEATURES = 400                # Update from Module 1\n",
        "    \n",
        "    # Test 1: Number of factors\n",
        "    K_values = [10, 15, 20, 25]\n",
        "    \n",
        "    print(\"Testing number of factors...\")\n",
        "    for K in K_values:\n",
        "        print(f\"   Testing K={K}...\")\n",
        "        \n",
        "        !py310cuda run_analysis.py \\\n",
        "            --dataset qmap_pd \\\n",
        "            --K $K \\\n",
        "            --num-samples 1500 \\\n",
        "            --num-warmup 750 \\\n",
        "            --num-chains 2 \\\n",
        "            --num-runs 2 \\\n",
        "            --enable_preprocessing \\\n",
        "            --imputation_strategy $BEST_IMPUTATION \\\n",
        "            --feature_selection $BEST_FEATURE_SELECTION \\\n",
        "            --n_top_features $BEST_N_FEATURES \\\n",
        "            --device gpu \\\n",
        "            --seed 42\n",
        "    \n",
        "    # Test 2: Sparsity levels\n",
        "    sparsity_levels = [25, 33, 50]\n",
        "    \n",
        "    print(\"\\n Testing sparsity levels...\")\n",
        "    for percW in sparsity_levels:\n",
        "        print(f\"   Testing {percW}% sparsity...\")\n",
        "        \n",
        "        !py310cuda run_analysis.py \\\n",
        "            --dataset qmap_pd \\\n",
        "            --K 18 \\\n",
        "            --num-samples 1500 \\\n",
        "            --num-warmup 750 \\\n",
        "            --num-chains 2 \\\n",
        "            --num-runs 2 \\\n",
        "            --percW $percW \\\n",
        "            --enable_preprocessing \\\n",
        "            --imputation_strategy $BEST_IMPUTATION \\\n",
        "            --feature_selection $BEST_FEATURE_SELECTION \\\n",
        "            --n_top_features $BEST_N_FEATURES \\\n",
        "            --device gpu \\\n",
        "            --seed 42\n",
        "    \n",
        "    # Test 3: MCMC configurations\n",
        "    mcmc_configs = [\n",
        "        {\"chains\": 2, \"samples\": 2000},\n",
        "        {\"chains\": 3, \"samples\": 1500}, \n",
        "        {\"chains\": 4, \"samples\": 1200}\n",
        "    ]\n",
        "    \n",
        "    print(\"\\n Testing MCMC configurations...\")\n",
        "    for config in mcmc_configs:\n",
        "        chains = config[\"chains\"]\n",
        "        samples = config[\"samples\"]\n",
        "        print(f\"   Testing {chains} chains × {samples} samples...\")\n",
        "        \n",
        "        !py310cuda run_analysis.py \\\n",
        "            --dataset qmap_pd \\\n",
        "            --K 15 \\\n",
        "            --num-samples $samples \\\n",
        "            --num-warmup {samples//2} \\\n",
        "            --num-chains $chains \\\n",
        "            --num-runs 1 \\\n",
        "            --percW 33 \\\n",
        "            --enable_preprocessing \\\n",
        "            --imputation_strategy $BEST_IMPUTATION \\\n",
        "            --feature_selection $BEST_FEATURE_SELECTION \\\n",
        "            --n_top_features $BEST_N_FEATURES \\\n",
        "            --device gpu \\\n",
        "            --seed 42\n",
        "    \n",
        "    print(\"\\n MODULE 2 COMPLETE\")\n",
        "    \n",
        "    # Save recommendations\n",
        "    recommendations = {\n",
        "        \"module\": \"hyperparameter_optimization\", \n",
        "        \"completed\": True,\n",
        "        \"best_from_module1\": {\n",
        "            \"imputation\": BEST_IMPUTATION,\n",
        "            \"feature_selection\": BEST_FEATURE_SELECTION,\n",
        "            \"n_features\": BEST_N_FEATURES\n",
        "        },\n",
        "        \"next_steps\": [\n",
        "            \"Compare log-likelihood across K values\",\n",
        "            \"Check factor stability across sparsity levels\", \n",
        "            \"Choose MCMC config with best convergence\",\n",
        "            \"Update BEST_* parameters in Module 3\"\n",
        "        ]\n",
        "    }\n",
        "    \n",
        "    with open(\"module2_results.json\", \"w\") as f:\n",
        "        json.dump(recommendations, f, indent=2)\n",
        "\n",
        "# Uncomment to run:\n",
        "# run_hyperparameter_optimization()"
      ]
    },
    {
      "cell_type": "code",
      "execution_count": null,
      "id": "d87442d6",
      "metadata": {},
      "outputs": [],
      "source": [
        "# =============================================================================\n",
        "# MODULE 3: CROSS-VALIDATION\n",
        "# =============================================================================\n",
        "\n",
        "def run_cv_optimization():\n",
        "    print(\"MODULE 3: CROSS-VALIDATION OPTIMIZATION\")\n",
        "    print(\"-\" * 40)\n",
        "    \n",
        "    # Use best params from Modules 1&2 (update these!)\n",
        "    BEST_IMPUTATION = \"knn\"        # From Module 1\n",
        "    BEST_FEATURE_SELECTION = \"combined\"  # From Module 1\n",
        "    BEST_N_FEATURES = 400          # From Module 1\n",
        "    BEST_K = 15                    # From Module 2\n",
        "    BEST_SPARSITY = 33             # From Module 2\n",
        "    BEST_CHAINS = 3                # From Module 2\n",
        "    BEST_SAMPLES = 1500            # From Module 2\n",
        "    \n",
        "    # Test 1: CV fold numbers\n",
        "    cv_folds = [3, 5, 7]\n",
        "    \n",
        "    print(\"Testing CV fold numbers...\")\n",
        "    for folds in cv_folds:\n",
        "        print(f\"   Testing {folds}-fold CV...\")\n",
        "        \n",
        "        !py310cuda run_analysis.py \\\n",
        "            --dataset qmap_pd \\\n",
        "            --K $BEST_K \\\n",
        "            --num-samples 1000 \\\n",
        "            --num-warmup 500 \\\n",
        "            --num-chains 2 \\\n",
        "            --cv_only \\\n",
        "            --cv_folds $folds \\\n",
        "            --enable_preprocessing \\\n",
        "            --imputation_strategy $BEST_IMPUTATION \\\n",
        "            --feature_selection $BEST_FEATURE_SELECTION \\\n",
        "            --n_top_features $BEST_N_FEATURES \\\n",
        "            --percW $BEST_SPARSITY \\\n",
        "            --device gpu \\\n",
        "            --seed 42\n",
        "    \n",
        "    # Test 2: CV strategies\n",
        "    cv_types = ['standard', 'stratified']\n",
        "    \n",
        "    print(\"\\n Testing CV strategies...\")\n",
        "    for cv_type in cv_types:\n",
        "        print(f\"   Testing {cv_type} CV...\")\n",
        "        \n",
        "        !py310cuda run_analysis.py \\\n",
        "            --dataset qmap_pd \\\n",
        "            --K $BEST_K \\\n",
        "            --num-samples 1000 \\\n",
        "            --num-warmup 500 \\\n",
        "            --num-chains 2 \\\n",
        "            --cv_only \\\n",
        "            --cv_folds 5 \\\n",
        "            --cv_type $cv_type \\\n",
        "            --enable_preprocessing \\\n",
        "            --imputation_strategy $BEST_IMPUTATION \\\n",
        "            --feature_selection $BEST_FEATURE_SELECTION \\\n",
        "            --n_top_features $BEST_N_FEATURES \\\n",
        "            --percW $BEST_SPARSITY \\\n",
        "            --device gpu \\\n",
        "            --seed 42\n",
        "    \n",
        "    # Test 3: Nested CV (if you have time)\n",
        "    print(\"\\n Testing nested CV (optional - skip if time limited)...\")\n",
        "    proceed = input(\"Run nested CV? Adds computational demand (y/N): \")\n",
        "    if proceed.lower() in ['y', 'yes']:\n",
        "        !py310cuda run_analysis.py \\\n",
        "            --dataset qmap_pd \\\n",
        "            --K $BEST_K \\\n",
        "            --num-samples 1200 \\\n",
        "            --num-warmup 600 \\\n",
        "            --num-chains 2 \\\n",
        "            --nested_cv \\\n",
        "            --cv_folds 4 \\\n",
        "            --enable_preprocessing \\\n",
        "            --imputation_strategy $BEST_IMPUTATION \\\n",
        "            --feature_selection $BEST_FEATURE_SELECTION \\\n",
        "            --n_top_features $BEST_N_FEATURES \\\n",
        "            --device gpu \\\n",
        "            --seed 42\n",
        "    \n",
        "    print(\"\\n MODULE 3 COMPLETE\")\n",
        "    \n",
        "    # Save final recommendations\n",
        "    final_config = {\n",
        "        \"module\": \"cv_optimization\",\n",
        "        \"completed\": True,\n",
        "        \"optimal_config\": {\n",
        "            \"imputation\": BEST_IMPUTATION,\n",
        "            \"feature_selection\": BEST_FEATURE_SELECTION, \n",
        "            \"n_features\": BEST_N_FEATURES,\n",
        "            \"K\": BEST_K,\n",
        "            \"sparsity\": BEST_SPARSITY,\n",
        "            \"chains\": BEST_CHAINS,\n",
        "            \"samples\": BEST_SAMPLES,\n",
        "            \"cv_folds\": 5,  # Update based on results\n",
        "            \"cv_type\": \"standard\"  # Update based on results\n",
        "        },\n",
        "        \"ready_for\": \"Module 4 - Final optimized analysis\"\n",
        "    }\n",
        "    \n",
        "    with open(\"optimal_config.json\", \"w\") as f:\n",
        "        json.dump(final_config, f, indent=2)\n",
        "\n",
        "# Uncomment to run:\n",
        "# run_cv_optimization()"
      ]
    },
    {
      "cell_type": "code",
      "execution_count": null,
      "id": "2c996baa",
      "metadata": {},
      "outputs": [],
      "source": [
        "# =============================================================================\n",
        "# MODULE 4: FINAL OPTIMIZED ANALYSIS\n",
        "# Most intensive module\n",
        "# =============================================================================\n",
        "\n",
        "def run_final_analysis():\n",
        "    print(\"MODULE 4: FINAL OPTIMIZED ANALYSIS\")\n",
        "    print(\"-\" * 40)\n",
        "    \n",
        "    # Load optimal config (update these from previous modules!)\n",
        "    try:\n",
        "        with open(\"optimal_config.json\", \"r\") as f:\n",
        "            config = json.load(f)[\"optimal_config\"]\n",
        "    except:\n",
        "        print(\"No optimal_config.json found - using defaults\")\n",
        "        print(\"Run Modules 1-3 first for best results\")\n",
        "        config = {\n",
        "            \"imputation\": \"knn\",\n",
        "            \"feature_selection\": \"combined\",\n",
        "            \"n_features\": 400,\n",
        "            \"K\": 15,\n",
        "            \"sparsity\": 33,\n",
        "            \"chains\": 3,\n",
        "            \"samples\": 2000,\n",
        "            \"cv_folds\": 5,\n",
        "            \"cv_type\": \"standard\"\n",
        "        }\n",
        "    \n",
        "    print(f\" Using configuration: {config}\")\n",
        "    \n",
        "    print(\"\\n Running final optimized analysis...\")\n",
        "    !py310cuda run_analysis.py \\\n",
        "        --dataset qmap_pd \\\n",
        "        --K {config[\"K\"]} \\\n",
        "        --num-samples {config[\"samples\"]} \\\n",
        "        --num-warmup {config[\"samples\"]//2} \\\n",
        "        --num-chains {config[\"chains\"]} \\\n",
        "        --num-runs 3 \\\n",
        "        --percW {config[\"sparsity\"]} \\\n",
        "        --enable_preprocessing \\\n",
        "        --imputation_strategy {config[\"imputation\"]} \\\n",
        "        --feature_selection {config[\"feature_selection\"]} \\\n",
        "        --n_top_features {config[\"n_features\"]} \\\n",
        "        --run_cv \\\n",
        "        --cv_folds {config[\"cv_folds\"]} \\\n",
        "        --cv_type {config[\"cv_type\"]} \\\n",
        "        --create_factor_maps \\\n",
        "        --create_comprehensive_viz \\\n",
        "        --device gpu \\\n",
        "        --seed 42\n",
        "    \n",
        "    print(\"\\n MODULE 4 COMPLETE - Final analysis done!\")\n",
        "\n",
        "# Uncomment to run:\n",
        "# run_final_analysis()"
      ]
    },
    {
      "cell_type": "code",
      "execution_count": null,
      "id": "bb54c33d",
      "metadata": {},
      "outputs": [],
      "source": [
        "# =============================================================================\n",
        "# MODULE 5: BRAIN MAPPING & INTERPRETABILITY\n",
        "# =============================================================================\n",
        "\n",
        "def run_brain_mapping():\n",
        "    print(\" MODULE 5: BRAIN MAPPING & INTERPRETABILITY\")\n",
        "    print(\"-\" * 40)\n",
        "    \n",
        "    # Load optimal config\n",
        "    try:\n",
        "        with open(\"optimal_config.json\", \"r\") as f:\n",
        "            config = json.load(f)[\"optimal_config\"]\n",
        "    except:\n",
        "        config = {\n",
        "            \"imputation\": \"knn\",\n",
        "            \"feature_selection\": \"combined\", \n",
        "            \"n_features\": 400,\n",
        "            \"K\": 15,\n",
        "            \"sparsity\": 33\n",
        "        }\n",
        "    \n",
        "    print(\"Generating detailed brain factor maps...\")\n",
        "    !py310cuda run_analysis.py \\\n",
        "        --dataset qmap_pd \\\n",
        "        --roi_views \\\n",
        "        --K {config[\"K\"]} \\\n",
        "        --num-samples 1500 \\\n",
        "        --num-warmup 750 \\\n",
        "        --num-chains 2 \\\n",
        "        --num-runs 2 \\\n",
        "        --percW {config[\"sparsity\"]} \\\n",
        "        --enable_preprocessing \\\n",
        "        --imputation_strategy {config[\"imputation\"]} \\\n",
        "        --feature_selection {config[\"feature_selection\"]} \\\n",
        "        --n_top_features {config[\"n_features\"]} \\\n",
        "        --create_factor_maps \\\n",
        "        --device gpu \\\n",
        "        --seed 42\n",
        "    \n",
        "    print(\"\\n Testing interpretability across factor counts...\")\n",
        "    for K in [10, 15, 20]:\n",
        "        print(f\"   Analyzing {K} factors...\")\n",
        "        !py310cuda run_analysis.py \\\n",
        "            --dataset qmap_pd \\\n",
        "            --K $K \\\n",
        "            --num-samples 1000 \\\n",
        "            --num-warmup 500 \\\n",
        "            --num-chains 2 \\\n",
        "            --num-runs 1 \\\n",
        "            --enable_preprocessing \\\n",
        "            --imputation_strategy {config[\"imputation\"]} \\\n",
        "            --feature_selection {config[\"feature_selection\"]} \\\n",
        "            --n_top_features {config[\"n_features\"]} \\\n",
        "            --device gpu \\\n",
        "            --seed 42\n",
        "    \n",
        "    print(\"\\n MODULE 5 COMPLETE - Brain mapping done!\")\n",
        "\n",
        "# Uncomment to run:\n",
        "# run_brain_mapping()"
      ]
    },
    {
      "cell_type": "code",
      "execution_count": null,
      "id": "8c2d2dee",
      "metadata": {},
      "outputs": [],
      "source": [
        "# =============================================================================\n",
        "# STANDALONE MODULES FOR SPECIFIC TESTS\n",
        "# =============================================================================\n",
        "\n",
        "def run_roi_comparison():\n",
        "    print(\"ROI STRATEGY COMPARISON\")\n",
        "    print(\"-\" * 40)\n",
        "    \n",
        "    base_params = [\n",
        "        \"--dataset\", \"qmap_pd\",\n",
        "        \"--K\", \"15\",\n",
        "        \"--num-samples\", \"1200\",\n",
        "        \"--num-warmup\", \"600\", \n",
        "        \"--num-chains\", \"2\",\n",
        "        \"--num-runs\", \"1\",\n",
        "        \"--enable_preprocessing\",\n",
        "        \"--device\", \"gpu\",\n",
        "        \"--seed\", \"42\"\n",
        "    ]\n",
        "    \n",
        "    print(\"Testing concatenated ROIs...\")\n",
        "    !py310cuda run_analysis.py {\" \".join(base_params)}\n",
        "    \n",
        "    print(\"Testing separate ROIs...\")\n",
        "    !py310cuda run_analysis.py --roi_views {\" \".join(base_params)}\n",
        "    \n",
        "    print(\"ROI comparison complete\")\n",
        "\n",
        "def run_quick_synthetic_demo():\n",
        "    print(\"QUICK SYNTHETIC DEMO\")\n",
        "    print(\"-\" * 40)\n",
        "    \n",
        "    !py310cuda run_analysis.py \\\n",
        "        --dataset synthetic \\\n",
        "        --K 5 \\\n",
        "        --num-samples 800 \\\n",
        "        --num-warmup 400 \\\n",
        "        --num-chains 2 \\\n",
        "        --num-runs 1 \\\n",
        "        --percW 33 \\\n",
        "        --device gpu \\\n",
        "        --seed 42\n",
        "    \n",
        "    print(\"Synthetic demo complete\")"
      ]
    },
    {
      "cell_type": "code",
      "execution_count": null,
      "id": "e7617140",
      "metadata": {},
      "outputs": [],
      "source": [
        "# =============================================================================\n",
        "# USAGE INSTRUCTIONS\n",
        "# =============================================================================\n",
        "\n",
        "print(\"\"\"\n",
        "MODULAR OPTIMIZATION USAGE:\n",
        "\n",
        "COLAB USAGE:\n",
        "   1. run_quick_validation()\n",
        "   2. run_preprocessing_optimization()\n",
        "   3. run_cv_optimization()\n",
        "   5. run_brain_mapping()\n",
        "\n",
        "UCL GPU USAGE:\n",
        "   2. run_hyperparameter_optimization() # 30 mins - intensive\n",
        "   4. run_final_analysis()              # 30 mins - most intensive\n",
        "\n",
        "STANDALONE MODULES:\n",
        "   • run_roi_comparison()      # 15 mins\n",
        "   • run_quick_synthetic_demo() # 5 mins\n",
        "\n",
        "WORKFLOW:\n",
        "   1. Start with validation anywhere\n",
        "   2. Run preprocessing on Colab\n",
        "   3. Run hyperparameters on UCL GPUs\n",
        "   4. Run CV anywhere  \n",
        "   5. Run final analysis on UCL GPUs\n",
        "   6. Run brain mapping anywhere\n",
        "\n",
        "SHARING RESULTS:\n",
        "   • Each module saves config to JSON files\n",
        "   • Copy optimal_config.json between platforms\n",
        "   • Results persist in ../results/ folders\n",
        "\"\"\")"
      ]
    },
    {
      "cell_type": "code",
      "execution_count": null,
      "id": "b6dec9aa",
      "metadata": {},
      "outputs": [],
      "source": [
        "# =============================================================================\n",
        "# PLATFORM-SPECIFIC RUNNERS\n",
        "# =============================================================================\n",
        "\n",
        "def colab_session():\n",
        "    print(\"COLAB SESSION\")\n",
        "    print(\"=\" * 40)\n",
        "    run_quick_validation()\n",
        "    run_preprocessing_optimization() \n",
        "    run_cv_optimization()\n",
        "    print(\"\\n Colab session complete!\")\n",
        "    print(\" Download optimal_config.json for SSH GPUs\")\n",
        "\n",
        "def ssh_session():\n",
        "    print(\"HEAVY-DUTY GPU SESSION\")\n",
        "    print(\"=\" * 40)\n",
        "    \n",
        "    # Check if we have optimal config from Colab\n",
        "    if os.path.exists(\"optimal_config.json\"):\n",
        "        print(\"Found optimal_config.json from previous session\")\n",
        "    else:\n",
        "        print(\"No optimal_config.json - running quick optimization first\")\n",
        "        run_preprocessing_optimization()\n",
        "    \n",
        "    run_hyperparameter_optimization()\n",
        "    run_final_analysis()\n",
        "    print(\"\\n SSH session complete!\")\n",
        "\n",
        "# Uncomment for platform-specific sessions:\n",
        "# colab_session()      # For Colab\n",
        "# ssh_session()        # For UCL GPUs\n"
      ]
    }
  ],
  "metadata": {
    "accelerator": "GPU",
    "colab": {
      "gpuType": "A100",
      "machine_shape": "hm",
      "provenance": []
    },
    "kernelspec": {
      "display_name": "Python 3",
      "name": "python3"
    },
    "language_info": {
      "name": "python"
    }
  },
  "nbformat": 4,
  "nbformat_minor": 5
}
